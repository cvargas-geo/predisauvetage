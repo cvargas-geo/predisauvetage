{
 "cells": [
  {
   "cell_type": "code",
   "execution_count": 104,
   "metadata": {
    "collapsed": true
   },
   "outputs": [],
   "source": [
    "import mailparser\n",
    "import re\n",
    "import pandas as pd\n",
    "import io\n",
    "import glob\n",
    "import numpy as np"
   ]
  },
  {
   "cell_type": "code",
   "execution_count": 428,
   "metadata": {},
   "outputs": [],
   "source": [
    "\n",
    "class EmlFileParser(object):\n",
    "    def __init__(self, file):\n",
    "        super().__init__()\n",
    "        self.file = file   \n",
    "\n",
    "    def parse(self):\n",
    "        df = self.text_to_df()\n",
    "        df.columns =['lines'] #Name the dataframe column\n",
    "        df['A'], df['B'] = df['lines'].str.split('\\n',1).str #Split lines \n",
    "        df = df.drop_duplicates('A', keep='first') #Drop duplicated lines\n",
    "        df = df.transpose()# Transpose the Data frame \n",
    "        df.columns = df.iloc[1] #Name colums with info in row A\n",
    "        df = df.reindex(df.index.drop(['A','lines'])).reset_index()\n",
    "        df = df.filter(regex='SITREP|^J\\s|^L\\s|^N\\s')\n",
    "        df.iloc[:,0] =df.columns[0]\n",
    "        df = df.rename(columns={ df.columns[0]: \"cross_sitrep\"})\n",
    "        df['cross_sitrep'] = df.cross_sitrep.str.extract(\"(?:MRCC|CROSS|JRCC) ([A-Z]+\\/\\d+/(?:N°)*\\d+)\")\n",
    "        return df\n",
    "  \n",
    "    def parse_tahiti(self):\n",
    "        df = self.text_to_df()\n",
    "        df.columns =['lines'] #Name the dataframe column\n",
    "        df['A'], df['B'] = df['lines'].str.split('\\n',1).str #Split lines \n",
    "        df = df.drop_duplicates('A', keep='first') #Drop duplicated lines\n",
    "        df = df.transpose()# Transpose the Data frame \n",
    "        df.columns = df.iloc[1] #Name colums with info in row A\n",
    "        df = df.reindex(df.index.drop(['A','lines'])).reset_index()\n",
    "        df = df.filter(regex='JRCC|^J-|^L-|^N-')\n",
    "        df.iloc[:,0] =df.columns[0]\n",
    "        df = df.rename(columns={ df.columns[0]: \"cross_sitrep\"})\n",
    "        df['cross_sitrep'] = \"TAHITI\"\n",
    "        return df\n",
    "        \n",
    "        \n",
    "    def eml_to_text(self):\n",
    "        mail = mailparser.parse_from_file(self.file)\n",
    "        return mail.body\n",
    "\n",
    "    def text_to_df(self):\n",
    "        a =  self.eml_to_text().split('\\n\\n')\n",
    "        return pd.DataFrame(a)\n",
    "\n",
    "\n",
    "\n",
    "class EmlFolderParser(object):\n",
    "    def __init__(self, folder, output):\n",
    "        super().__init__()\n",
    "        self.folder = folder\n",
    "        self.output = output\n",
    "    \n",
    "    def parse_folder(self):\n",
    "        text_df = pd.DataFrame()\n",
    "        for filename in glob.glob(self.folder+'/*.eml'):\n",
    "            if ('TAHITI' in filename)== True:            \n",
    "                out = EmlFileParser(filename).parse_tahiti()\n",
    "            else:\n",
    "                out = EmlFileParser(filename).parse()\n",
    "            text_df = text_df.append(out, ignore_index=True)\n",
    "        text_df.to_csv(self.output)\n",
    "    "
   ]
  },
  {
   "cell_type": "code",
   "execution_count": 429,
   "metadata": {},
   "outputs": [
    {
     "name": "stderr",
     "output_type": "stream",
     "text": [
      "/Users/elsa.luneville/anaconda3/lib/python3.6/site-packages/ipykernel_launcher.py:18: FutureWarning: currently extract(expand=None) means expand=False (return Index/Series/DataFrame) but in a future version of pandas this will be changed to expand=True (return DataFrame)\n"
     ]
    }
   ],
   "source": [
    "EmlFolderParser('./liste_sitrep', './liste_sitrep/test_all4.csv').parse_folder()"
   ]
  },
  {
   "cell_type": "code",
   "execution_count": 313,
   "metadata": {},
   "outputs": [],
   "source": [
    "def parse_sitrep(input_path, output_path):\n",
    "    text_df = pd.DataFrame() \n",
    "    for filename in glob.glob(input_path+'/*.eml'):\n",
    "        mail = mailparser.parse_from_file(filename)\n",
    "        text = mail.body\n",
    "        a = text.split('\\n\\n')\n",
    "        df = pd.DataFrame(a)\n",
    "        df.columns =['test']\n",
    "        df['A'], df['B'] = df['test'].str.split('\\n',1).str \n",
    "        df = df.drop_duplicates('A', keep='first')\n",
    "        df1 = df.transpose()\n",
    "        df1.columns = df1.iloc[1]\n",
    "        df2 = df1.reindex(df1.index.drop('A')).reset_index()\n",
    "        df3 = df2.filter(regex='SITREP|^J\\s|^L\\s|^N\\s').drop(0)\n",
    "        df3.iloc[:,0] =df3.columns[0]\n",
    "        df3 = df3.rename(columns={ df3.columns[0]: \"cross_sitrep\"})\n",
    "        df3['cross_sitrep'] = df3.cross_sitrep.str.extract(\"(?:MRCC|CROSS|JRCC) ([A-Z]+\\/\\d+/(?:N°)*\\d+)\")#ajouter un truc pour La garde \n",
    "        text_df = text_df.append(df3, ignore_index=True)\n",
    "    text_df.to_csv(output_path)\n",
    "\n",
    "\n",
    "    "
   ]
  },
  {
   "cell_type": "code",
   "execution_count": 357,
   "metadata": {
    "scrolled": false
   },
   "outputs": [
    {
     "name": "stderr",
     "output_type": "stream",
     "text": [
      "/Users/elsa.luneville/anaconda3/lib/python3.6/site-packages/ipykernel_launcher.py:17: FutureWarning: currently extract(expand=None) means expand=False (return Index/Series/DataFrame) but in a future version of pandas this will be changed to expand=True (return DataFrame)\n"
     ]
    }
   ],
   "source": [
    "parse_sitrep('./liste_sitrep', './liste_sitrep/test_all2.csv')"
   ]
  },
  {
   "cell_type": "code",
   "execution_count": 380,
   "metadata": {},
   "outputs": [
    {
     "name": "stderr",
     "output_type": "stream",
     "text": [
      "/Users/elsa.luneville/anaconda3/lib/python3.6/site-packages/ipykernel_launcher.py:17: FutureWarning: currently extract(expand=None) means expand=False (return Index/Series/DataFrame) but in a future version of pandas this will be changed to expand=True (return DataFrame)\n"
     ]
    },
    {
     "data": {
      "text/html": [
       "<div>\n",
       "<style>\n",
       "    .dataframe thead tr:only-child th {\n",
       "        text-align: right;\n",
       "    }\n",
       "\n",
       "    .dataframe thead th {\n",
       "        text-align: left;\n",
       "    }\n",
       "\n",
       "    .dataframe tbody tr th {\n",
       "        vertical-align: top;\n",
       "    }\n",
       "</style>\n",
       "<table border=\"1\" class=\"dataframe\">\n",
       "  <thead>\n",
       "    <tr style=\"text-align: right;\">\n",
       "      <th>A</th>\n",
       "      <th>cross_sitrep</th>\n",
       "      <th>J-    PREMIERES MESURES PRISES</th>\n",
       "      <th>L-    INSTRUCTIONS POUR LA COORDINATION</th>\n",
       "      <th>N-    RENSEIGNEMENTS COMPLEMENTAIRES</th>\n",
       "      <th>JRCC TAHITI</th>\n",
       "    </tr>\n",
       "  </thead>\n",
       "  <tbody>\n",
       "    <tr>\n",
       "      <th>0</th>\n",
       "      <td>NaN</td>\n",
       "      <td>14H46 – MISE EN ŒUVRE DE LA VEDETTE DE LA BRIG...</td>\n",
       "      <td>14H48 – CONTRE APPEL AU TEMOIN – APERCOIT UN N...</td>\n",
       "      <td>14H57 – OPERATION CLOSE\\n      01 PERSON...</td>\n",
       "      <td>Centre de coordination de sauvetage aéro marit...</td>\n",
       "    </tr>\n",
       "  </tbody>\n",
       "</table>\n",
       "</div>"
      ],
      "text/plain": [
       "A cross_sitrep                     J-    PREMIERES MESURES PRISES  \\\n",
       "0          NaN  14H46 – MISE EN ŒUVRE DE LA VEDETTE DE LA BRIG...   \n",
       "\n",
       "A            L-    INSTRUCTIONS POUR LA COORDINATION  \\\n",
       "0  14H48 – CONTRE APPEL AU TEMOIN – APERCOIT UN N...   \n",
       "\n",
       "A               N-    RENSEIGNEMENTS COMPLEMENTAIRES  \\\n",
       "0        14H57 – OPERATION CLOSE\\n      01 PERSON...   \n",
       "\n",
       "A                                        JRCC TAHITI  \n",
       "0  Centre de coordination de sauvetage aéro marit...  "
      ]
     },
     "execution_count": 380,
     "metadata": {},
     "output_type": "execute_result"
    }
   ],
   "source": [
    "EmlFileParserTest('./liste_sitrep/JRCC TAHITI - SITREP SAR 415-2017- UN ET FINAL.eml').parse()"
   ]
  }
 ],
 "metadata": {
  "kernelspec": {
   "display_name": "Python 3",
   "language": "python",
   "name": "python3"
  },
  "language_info": {
   "codemirror_mode": {
    "name": "ipython",
    "version": 3
   },
   "file_extension": ".py",
   "mimetype": "text/x-python",
   "name": "python",
   "nbconvert_exporter": "python",
   "pygments_lexer": "ipython3",
   "version": "3.6.3"
  }
 },
 "nbformat": 4,
 "nbformat_minor": 2
}
